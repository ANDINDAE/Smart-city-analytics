{
 "cells": [
  {
   "cell_type": "code",
   "execution_count": null,
   "metadata": {},
   "outputs": [],
   "source": [
    "import numpy as np\n",
    "import pandas as pd\n",
    "import matplotlib\n",
    "import matplotlib.pyplot as plt"
   ]
  },
  {
   "cell_type": "code",
   "execution_count": null,
   "metadata": {},
   "outputs": [],
   "source": [
    "# Air Quality datasets \n",
    "# https://aqs.epa.gov/aqsweb/airdata/download_files.html#Raw\n",
    "!wget https://aqs.epa.gov/aqsweb/airdata/hourly_42602_2017.zip\n",
    "!unzip hourly_42602_2017.zip"
   ]
  },
  {
   "cell_type": "code",
   "execution_count": null,
   "metadata": {},
   "outputs": [],
   "source": [
    "!ls"
   ]
  },
  {
   "cell_type": "code",
   "execution_count": null,
   "metadata": {},
   "outputs": [],
   "source": [
    "# Load dataset \n",
    "# aq_data = pd.read_csv('./hourly_42602_2017.csv')\n",
    "aq_data = pd.read_csv('/Users/kkbankol@us.ibm.com/Downloads/hourly_42602_2017.csv')"
   ]
  },
  {
   "cell_type": "code",
   "execution_count": null,
   "metadata": {},
   "outputs": [],
   "source": [
    "# View first 5 rows\n",
    "aq_data.head()"
   ]
  },
  {
   "cell_type": "code",
   "execution_count": null,
   "metadata": {},
   "outputs": [],
   "source": [
    "# View titles of all columns\n",
    "aq_data.columns"
   ]
  },
  {
   "cell_type": "code",
   "execution_count": null,
   "metadata": {},
   "outputs": [],
   "source": [
    "aq_data['Sample Measurement'].describe()"
   ]
  },
  {
   "cell_type": "code",
   "execution_count": null,
   "metadata": {},
   "outputs": [],
   "source": [
    "# print list of all unique monitoring site numbers\n",
    "aq_data['Site Num'].unique()"
   ]
  },
  {
   "cell_type": "code",
   "execution_count": null,
   "metadata": {},
   "outputs": [],
   "source": [
    "# get number of aq sites in a single state, \"California\"\n",
    "aq_data.loc[aq_data['State Name'] == \"California\"]['Site Num'].unique().shape"
   ]
  },
  {
   "cell_type": "code",
   "execution_count": null,
   "metadata": {},
   "outputs": [],
   "source": [
    "# show data associated \n",
    "los_angeles_aq = aq_data.loc[ \\\n",
    "                     (aq_data['Longitude'] > -118.455937) & \\\n",
    "                     (aq_data['Longitude'] < -117.842111) & \\\n",
    "                     (aq_data['Latitude'] > 33.764836) & \\\n",
    "                     (aq_data['Latitude'] < 34.173729) ]\n",
    "los_angeles_aq"
   ]
  },
  {
   "cell_type": "code",
   "execution_count": null,
   "metadata": {},
   "outputs": [],
   "source": [
    "plt.ylabel('Air Quality Level')\n",
    "plt.xlabel('Timestamp')\n",
    "plt.legend( los_angeles_aq['Site Num'].unique().tolist(), loc='upper left')\n",
    "# plt.legend( los_angeles_aq['Site Num'].unique().tolist() )\n",
    "colors = [plt.cm.spectral(i) for i in np.linspace(0, 1, los_angeles_aq['Site Num'].unique().shape[0])]\n",
    "ax.set_prop_cycle('color', colors)\n",
    "for site in los_angeles_aq['Site Num'].unique():\n",
    "    plt.plot( los_angeles_aq_trimmed.loc[los_angeles_aq_trimmed['Site Num'] == site]['Timestamp'], los_angeles_aq_trimmed.loc[los_angeles_aq_trimmed['Site Num'] == site]['Sample Measurement'])\n"
   ]
  },
  {
   "cell_type": "code",
   "execution_count": null,
   "metadata": {},
   "outputs": [],
   "source": [
    "# Print aq changes throughout the year, and create a seperate chart for each air quality monitoring site\n",
    "ncols = 3\n",
    "nrows = 4 #los_angeles_aq['Site Num'].unique().shape[0]\n",
    "plt.subplots(nrows, ncols, figsize=(15,15))\n",
    "idx = 1\n",
    "data_summary = los_angeles_aq['Sample Measurement'].describe()\n",
    "for site in los_angeles_aq['Site Num'].unique():\n",
    "    plt.ylim(0, data_summary['max'] * 1.25)\n",
    "    plt.subplot(nrows, ncols, idx)\n",
    "    plt.plot( los_angeles_aq.loc[los_angeles_aq['Site Num'] == site]['Timestamp'], los_angeles_aq.loc[los_angeles_aq['Site Num'] == site]['Sample Measurement'])\n",
    "    plt.title(\"site \" + str(site))\n",
    "    idx = idx + 1"
   ]
  },
  {
   "cell_type": "code",
   "execution_count": null,
   "metadata": {},
   "outputs": [],
   "source": [
    "# Print aq changes throughout the day from 0:00 - 24:00. Break into seperate plots by weekday\n",
    "nrows = 4\n",
    "ncols = 2\n",
    "plt.subplots(nrows, ncols, figsize=(15,15))\n",
    "weekdays = [ 'Monday', 'Tuesday', 'Wednesday', 'Thursday', 'Friday', 'Saturday', 'Sunday' ]\n",
    "idx = 1\n",
    "values_by_weekday = {}\n",
    "for day in weekdays:\n",
    "    plt.subplot(nrows, ncols, idx)\n",
    "    # for loop 0:00 - 24:00\n",
    "    # sum measurements where weekday == and time ==\n",
    "    times = []\n",
    "    for hour in range(0, 23):\n",
    "        if hour <= 9:\n",
    "          time = \"0\" + str(hour) + \":00\"\n",
    "        else:\n",
    "          time = str(hour) + \":00\"\n",
    "        # select subset matching given weekday and hour\n",
    "        subset = los_angeles_aq.loc[ (los_angeles_aq['Weekday'] == day) & (los_angeles_aq['Time Local'] == time) ]['Sample Measurement']\n",
    "        #         print(subset.mean())\n",
    "        times.append(subset.sum())\n",
    "    values_by_weekday[day] = times\n",
    "    plt.plot( times )\n",
    "    plt.title(day)\n",
    "    idx = idx + 1"
   ]
  }
 ],
 "metadata": {
  "kernelspec": {
   "display_name": "Python 3",
   "language": "python",
   "name": "python3"
  },
  "language_info": {
   "codemirror_mode": {
    "name": "ipython",
    "version": 3
   },
   "file_extension": ".py",
   "mimetype": "text/x-python",
   "name": "python",
   "nbconvert_exporter": "python",
   "pygments_lexer": "ipython3",
   "version": "3.7.0"
  }
 },
 "nbformat": 4,
 "nbformat_minor": 2
}
